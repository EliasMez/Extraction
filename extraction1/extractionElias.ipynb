{
 "cells": [
  {
   "cell_type": "code",
   "execution_count": 1,
   "id": "e62e1e53",
   "metadata": {},
   "outputs": [],
   "source": [
    "from re import finditer, search\n",
    "import pandas as pd\n",
    "import numpy as np"
   ]
  },
  {
   "cell_type": "code",
   "execution_count": 2,
   "id": "bf23bd41",
   "metadata": {},
   "outputs": [],
   "source": [
    "# création d'un dataFrame à partir du fichier csv transmis par Jessy\n",
    "df = pd.read_csv('source/export_data.csv')"
   ]
  },
  {
   "cell_type": "code",
   "execution_count": 3,
   "id": "6a813903",
   "metadata": {},
   "outputs": [],
   "source": [
    "# renommage de la colonne Unnamed: 0 qui correspond à l'id de chaque profil\n",
    "df.rename(columns={'Unnamed: 0': 'id_profil'}, inplace=True)"
   ]
  },
  {
   "cell_type": "code",
   "execution_count": 4,
   "id": "300255e5",
   "metadata": {},
   "outputs": [
    {
     "name": "stderr",
     "output_type": "stream",
     "text": [
      "C:\\Users\\elias\\logiciels\\anaconda3\\lib\\site-packages\\pandas\\core\\generic.py:6619: SettingWithCopyWarning: \n",
      "A value is trying to be set on a copy of a slice from a DataFrame\n",
      "\n",
      "See the caveats in the documentation: https://pandas.pydata.org/pandas-docs/stable/user_guide/indexing.html#returning-a-view-versus-a-copy\n",
      "  return self._update_inplace(result)\n",
      "C:\\Users\\elias\\AppData\\Local\\Temp/ipykernel_58352/3015813109.py:6: FutureWarning: The default value of regex will change from True to False in a future version. In addition, single character regular expressions will *not* be treated as literal strings when regex=True.\n",
      "  df_profils['num-connections'] = df_profils['num-connections'].str.replace('+','')\n",
      "C:\\Users\\elias\\AppData\\Local\\Temp/ipykernel_58352/3015813109.py:6: SettingWithCopyWarning: \n",
      "A value is trying to be set on a copy of a slice from a DataFrame.\n",
      "Try using .loc[row_indexer,col_indexer] = value instead\n",
      "\n",
      "See the caveats in the documentation: https://pandas.pydata.org/pandas-docs/stable/user_guide/indexing.html#returning-a-view-versus-a-copy\n",
      "  df_profils['num-connections'] = df_profils['num-connections'].str.replace('+','')\n",
      "C:\\Users\\elias\\AppData\\Local\\Temp/ipykernel_58352/3015813109.py:7: SettingWithCopyWarning: \n",
      "A value is trying to be set on a copy of a slice from a DataFrame.\n",
      "Try using .loc[row_indexer,col_indexer] = value instead\n",
      "\n",
      "See the caveats in the documentation: https://pandas.pydata.org/pandas-docs/stable/user_guide/indexing.html#returning-a-view-versus-a-copy\n",
      "  df_profils['num-connections'] = df_profils['num-connections'].astype('float').astype('int')\n"
     ]
    }
   ],
   "source": [
    "non_atomique_cols = ['positions','educations','skills','location']\n",
    "atomique_cols = [col for col in df.columns if col not in non_atomique_cols]\n",
    "df_profils =  df[atomique_cols]\n",
    "\n",
    "df_profils['num-connections'].replace('0.0','0',inplace=True)\n",
    "df_profils['num-connections'] = df_profils['num-connections'].str.replace('+','')\n",
    "df_profils['num-connections'] = df_profils['num-connections'].astype('float').astype('int')\n",
    "\n",
    "df_profils.to_csv('destination/profils.csv', sep=\";\", index=False)"
   ]
  },
  {
   "cell_type": "code",
   "execution_count": 5,
   "id": "f2f72fec",
   "metadata": {},
   "outputs": [],
   "source": [
    "# reg_sep : regex qui va permettre de séparer pour chaque profil les dictionnaires contenus dans les listes pour les colonnes\n",
    "# positions et educations.\n",
    "# reg_col : regex qui va permettre pour chaque dictionnaire de séparer chaque paire clé - valeur.\n",
    "\n",
    "reg_sep = \"{.+?}\"\n",
    "reg_sep_skill = \"'.+?'\"\n",
    "reg_col = \"'[^:,]+': .+?(,|})\"\n",
    "\n",
    "sep = lambda column,num_line : [unique.group() for unique in finditer(reg_sep,df[column][num_line])]\n",
    "sep_skills = lambda num_line : [unique.group().replace(\"'\",'') for unique in finditer(reg_sep_skill,df['skills'][num_line])]\n",
    "\n",
    "sep_range = lambda col,i_line: range(len(sep(col,i_line)))\n",
    "regs = lambda cols : [\"'\"+col+\".*?': (('.+?')|(\\\".+?\\\")|(.+?))(,|})\" for col in cols]\n",
    "sub_vals = lambda col,regs_,def_val : [[df['id_profil'][i_line], i_sep+1] + [search(regs_[i_reg],sep(col,i_line)[i_sep]).group().split(': ')[1].replace(\"'\",'').replace('\"','').strip(',}') if search(regs_[i_reg],sep(col,i_line)[i_sep]) is not None else def_val[i_reg] for i_reg in range(len(regs_))] for i_line in range(df.shape[0]) for i_sep in sep_range(col,i_line)]"
   ]
  },
  {
   "cell_type": "code",
   "execution_count": 6,
   "id": "f9c81a4d",
   "metadata": {},
   "outputs": [],
   "source": [
    "educations_cols = [i.group().split(': ')[0].replace(\"'\",'') for i in finditer(reg_col,sep('educations',0)[0])]\n",
    "regs_educations = regs(educations_cols)\n",
    "educations_default = [None for i in range(len(educations_cols))]\n",
    "sub_vals_educations = sub_vals('educations',regs_educations,educations_default)\n",
    "educations_cols = ['id_profil','num_education'] + educations_cols"
   ]
  },
  {
   "cell_type": "code",
   "execution_count": 7,
   "id": "d39550bf",
   "metadata": {},
   "outputs": [],
   "source": [
    "df_educations = pd.DataFrame(sub_vals_educations, columns = educations_cols)\n",
    "df_educations.to_csv('destination/educations.csv', sep=\";\", index=False)"
   ]
  },
  {
   "cell_type": "code",
   "execution_count": 8,
   "id": "f5c01357",
   "metadata": {},
   "outputs": [],
   "source": [
    "skills_cols = ['id_profil','skill']\n",
    "sub_vals_skills = [[df['id_profil'][i_line], skill] for i_line in range(df.shape[0]) for skill in sep_skills(i_line)]"
   ]
  },
  {
   "cell_type": "code",
   "execution_count": 9,
   "id": "f1cf298d",
   "metadata": {},
   "outputs": [],
   "source": [
    "df_skills = pd.DataFrame(sub_vals_skills, columns = skills_cols)\n",
    "df_skills.to_csv('destination/skills.csv', sep=\";\", index=False)"
   ]
  },
  {
   "cell_type": "code",
   "execution_count": 10,
   "id": "960c83ad",
   "metadata": {},
   "outputs": [],
   "source": [
    "positions_cols = [\"summary\",\"title\",\"start-date\",\"end-date\",\"is-current\",\"company-name\"]\n",
    "regs_positions = regs(positions_cols)\n",
    "positions_default = ['False' if col == 'is-current' else None for col in positions_cols]\n",
    "sub_vals_positions = sub_vals('positions',regs_positions,positions_default)\n",
    "positions_cols = ['id_profil','num_position'] + positions_cols"
   ]
  },
  {
   "cell_type": "code",
   "execution_count": 11,
   "id": "d8482caf",
   "metadata": {},
   "outputs": [],
   "source": [
    "df_positions = pd.DataFrame(sub_vals_positions, columns = positions_cols)\n",
    "df_positions.to_csv('destination/positions.csv', sep=\";\", index=False)"
   ]
  },
  {
   "cell_type": "code",
   "execution_count": 12,
   "id": "2550ff3c",
   "metadata": {},
   "outputs": [],
   "source": [
    "fileStates = open(\"source/states.txt\", \"r\")\n",
    "states_list = fileStates.readlines()\n",
    "fileStates.close()\n",
    "states = [state[:-2] for state in states_list]"
   ]
  },
  {
   "cell_type": "code",
   "execution_count": 13,
   "id": "76ced456",
   "metadata": {},
   "outputs": [],
   "source": [
    "nb_lines = range(df.shape[0])\n",
    "sepLoc = lambda i_line : df.location[i_line].split(',')\n",
    "\n",
    "repV2 = lambda s : s.replace(' Area','').replace('Ciudad de ','').replace(' y alrededores','').replace(' e Região','').replace('Région de','').replace(' County','').strip(' ') \n",
    "repV1 = lambda s : s.replace(' Area','').replace('Greater ','').replace(' Metro','')\n",
    "repS = lambda s : s.replace(' Area','').strip(' ')\n",
    "repC = lambda s : s.strip(' ').replace('Canada Area', 'Canada')"
   ]
  },
  {
   "cell_type": "code",
   "execution_count": 14,
   "id": "7aa9b346",
   "metadata": {},
   "outputs": [],
   "source": [
    "profil = lambda i_line : df['id_profil'][i_line]\n",
    "city = lambda i_line : (repV2(sepLoc(i_line)[0]) if (len(sepLoc(i_line))>1) else (repV1(sepLoc(i_line)[0]) if ('Area' in sepLoc(i_line)[0]) else None))\n",
    "state = lambda i_line : (sepLoc(i_line)[1].strip(' ') if (len(sepLoc(i_line))==3) else (repS(sepLoc(i_line)[-1]) if ((len(sepLoc(i_line))==2) and (('Columbia' in sepLoc(i_line)[-1]) or (np.sum([state not in (sepLoc(i_line)[-1]) for state in states])==len(states)-1))) else None))\n",
    "country = lambda i_line : (repC(sepLoc(i_line)[-1]) if (('Area' not in repC(sepLoc(i_line)[-1])) and ('Columbia' not in sepLoc(i_line)[-1]) and np.sum([state not in (sepLoc(i_line)[-1]) for state in states])==len(states)) else \"United States\")\n",
    "\n",
    "locations_cols = ['id_profil', 'city', 'state', 'country']\n",
    "vals_locations = [[profil(i_line), city(i_line), state(i_line), country(i_line)] for i_line in nb_lines]"
   ]
  },
  {
   "cell_type": "code",
   "execution_count": 15,
   "id": "862127f5",
   "metadata": {},
   "outputs": [],
   "source": [
    "df_locations = pd.DataFrame(vals_locations, columns = locations_cols)\n",
    "df_locations.to_csv('destination/locations.csv', sep=\";\", index=False)"
   ]
  }
 ],
 "metadata": {
  "kernelspec": {
   "display_name": "Python 3 (ipykernel)",
   "language": "python",
   "name": "python3"
  },
  "language_info": {
   "codemirror_mode": {
    "name": "ipython",
    "version": 3
   },
   "file_extension": ".py",
   "mimetype": "text/x-python",
   "name": "python",
   "nbconvert_exporter": "python",
   "pygments_lexer": "ipython3",
   "version": "3.9.7"
  }
 },
 "nbformat": 4,
 "nbformat_minor": 5
}
